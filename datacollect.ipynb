{
 "cells": [
  {
   "cell_type": "code",
   "execution_count": null,
   "metadata": {},
   "outputs": [],
   "source": [
    "from bs4 import BeautifulSoup\n",
    "import requests \n",
    "from tqdm import tqdm\n",
    "\n",
    "url = \"https://aniwatchtv.to/home\"\n",
    "\n",
    "response = requests.get(url)\n",
    "soup = BeautifulSoup(response.text, \"html.parser\")\n",
    "ul=soup.find(\"ul\",class_=\"ulclear color-list sb-genre-list sb-genre-less\")\n",
    "data ={\"title\":[],\"description\":[],\"duration\":[],\"_18\":[],\"episodes\":[],\"genre\":[]}\n"
   ]
  },
  {
   "cell_type": "code",
   "execution_count": null,
   "metadata": {},
   "outputs": [],
   "source": [
    "def get_data(url,genre):   \n",
    "    for i in range(1,20):\n",
    "        page_url = url+\"?page=\"+str(i)\n",
    "        \n",
    "        response = requests.get(page_url)\n",
    "        \n",
    "        if response.status_code != 200:\n",
    "            return\n",
    "        soup = BeautifulSoup(response.content, 'html.parser')\n",
    "        main_div= soup.find_all('div', class_=\"flw-item\")\n",
    "        for div in main_div:\n",
    "            title=div.find(\"h3\", class_=\"film-name\")\n",
    "            duration= div.find(\"span\",class_=\"fdi-item fdi-duration\")\n",
    "            _18 = div.find(\"div\", class_=\"tick tick-rate\")\n",
    "            episodes = div.find(\"div\", class_=\"tick-item tick-eps\")\n",
    "            href= div.find(\"a\", href=True)['href']\n",
    "            response2 = requests.get(\"https://aniwatchtv.to\"+href)\n",
    "            soup2 = BeautifulSoup(response2.content, 'html.parser')\n",
    "            description = soup2.find(\"div\", class_=\"text\")\n",
    "            if description != None:\n",
    "                data[\"description\"].append(description.text.strip())\n",
    "            else:\n",
    "                data[\"description\"].append(\"None\")\n",
    "            if title != None:\n",
    "                data[\"title\"].append(title.text)\n",
    "            else:\n",
    "                data[\"title\"].append(\"None\")\n",
    "            if duration != None:    \n",
    "                data[\"duration\"].append(duration.text)\n",
    "            else:\n",
    "                data[\"duration\"].append(\"0\")\n",
    "            if _18 != None:\n",
    "                data[\"_18\"].append(_18.text)\n",
    "            else:\n",
    "                data[\"_18\"].append(\"None\")\n",
    "            if episodes != None:\n",
    "                data[\"episodes\"].append(episodes.text)\n",
    "            else:\n",
    "                data[\"episodes\"].append(\"0\")\n",
    "            data[\"genre\"].append(genre)\n",
    "            \n",
    "        "
   ]
  },
  {
   "cell_type": "code",
   "execution_count": null,
   "metadata": {},
   "outputs": [],
   "source": [
    "li=ul.find_all(\"li\")\n",
    "url = \"https://aniwatchtv.to\"\n",
    "for i in tqdm(li[19:]):\n",
    "    anchor = i.find(\"a\")\n",
    "    link=url+anchor[\"href\"]\n",
    "    get_data(link,anchor.text)"
   ]
  },
  {
   "cell_type": "code",
   "execution_count": null,
   "metadata": {},
   "outputs": [],
   "source": [
    "import pandas as pd\n",
    "dataframe = pd.DataFrame(data)\n",
    "dataframe.head()"
   ]
  },
  {
   "cell_type": "code",
   "execution_count": null,
   "metadata": {},
   "outputs": [],
   "source": [
    "dataframe.shape"
   ]
  },
  {
   "cell_type": "code",
   "execution_count": null,
   "metadata": {},
   "outputs": [],
   "source": [
    "dataframe.tail()"
   ]
  },
  {
   "cell_type": "code",
   "execution_count": null,
   "metadata": {},
   "outputs": [],
   "source": [
    "dataframe.to_csv(\"anime.csv\",index=False)"
   ]
  },
  {
   "cell_type": "code",
   "execution_count": null,
   "metadata": {},
   "outputs": [],
   "source": []
  },
  {
   "cell_type": "code",
   "execution_count": null,
   "metadata": {},
   "outputs": [],
   "source": []
  }
 ],
 "metadata": {
  "kernelspec": {
   "display_name": "nlp",
   "language": "python",
   "name": "python3"
  },
  "language_info": {
   "codemirror_mode": {
    "name": "ipython",
    "version": 3
   },
   "file_extension": ".py",
   "mimetype": "text/x-python",
   "name": "python",
   "nbconvert_exporter": "python",
   "pygments_lexer": "ipython3",
   "version": "3.11.5"
  }
 },
 "nbformat": 4,
 "nbformat_minor": 2
}
